{
 "cells": [
  {
   "cell_type": "code",
   "execution_count": 1,
   "metadata": {},
   "outputs": [],
   "source": [
    "import pandas as pd"
   ]
  },
  {
   "cell_type": "code",
   "execution_count": 8,
   "metadata": {},
   "outputs": [
    {
     "name": "stderr",
     "output_type": "stream",
     "text": [
      "Skipping line 49413: unexpected end of data\n"
     ]
    }
   ],
   "source": [
    "train = pd.read_csv('F:\\Datasets\\Train.csv',engine='python', encoding='utf-8', error_bad_lines=False)"
   ]
  },
  {
   "cell_type": "code",
   "execution_count": 9,
   "metadata": {},
   "outputs": [
    {
     "data": {
      "text/html": [
       "<div>\n",
       "<style scoped>\n",
       "    .dataframe tbody tr th:only-of-type {\n",
       "        vertical-align: middle;\n",
       "    }\n",
       "\n",
       "    .dataframe tbody tr th {\n",
       "        vertical-align: top;\n",
       "    }\n",
       "\n",
       "    .dataframe thead th {\n",
       "        text-align: right;\n",
       "    }\n",
       "</style>\n",
       "<table border=\"1\" class=\"dataframe\">\n",
       "  <thead>\n",
       "    <tr style=\"text-align: right;\">\n",
       "      <th></th>\n",
       "      <th>Id</th>\n",
       "      <th>Title</th>\n",
       "      <th>Body</th>\n",
       "      <th>Tags</th>\n",
       "    </tr>\n",
       "  </thead>\n",
       "  <tbody>\n",
       "    <tr>\n",
       "      <th>0</th>\n",
       "      <td>1</td>\n",
       "      <td>How to check if an uploaded file is an image w...</td>\n",
       "      <td>&lt;p&gt;I'd like to check if an uploaded file is an...</td>\n",
       "      <td>php image-processing file-upload upload mime-t...</td>\n",
       "    </tr>\n",
       "    <tr>\n",
       "      <th>1</th>\n",
       "      <td>2</td>\n",
       "      <td>How can I prevent firefox from closing when I ...</td>\n",
       "      <td>&lt;p&gt;In my favorite editor (vim), I regularly us...</td>\n",
       "      <td>firefox</td>\n",
       "    </tr>\n",
       "    <tr>\n",
       "      <th>2</th>\n",
       "      <td>3</td>\n",
       "      <td>R Error Invalid type (list) for variable</td>\n",
       "      <td>&lt;p&gt;I am import matlab file and construct a dat...</td>\n",
       "      <td>r matlab machine-learning</td>\n",
       "    </tr>\n",
       "    <tr>\n",
       "      <th>3</th>\n",
       "      <td>4</td>\n",
       "      <td>How do I replace special characters in a URL?</td>\n",
       "      <td>&lt;p&gt;This is probably very simple, but I simply ...</td>\n",
       "      <td>c# url encoding</td>\n",
       "    </tr>\n",
       "    <tr>\n",
       "      <th>4</th>\n",
       "      <td>5</td>\n",
       "      <td>How to modify whois contact details?</td>\n",
       "      <td>&lt;pre&gt;&lt;code&gt;function modify(.......)\\n{\\n  $mco...</td>\n",
       "      <td>php api file-get-contents</td>\n",
       "    </tr>\n",
       "  </tbody>\n",
       "</table>\n",
       "</div>"
      ],
      "text/plain": [
       "   Id                                              Title  \\\n",
       "0   1  How to check if an uploaded file is an image w...   \n",
       "1   2  How can I prevent firefox from closing when I ...   \n",
       "2   3           R Error Invalid type (list) for variable   \n",
       "3   4      How do I replace special characters in a URL?   \n",
       "4   5               How to modify whois contact details?   \n",
       "\n",
       "                                                Body  \\\n",
       "0  <p>I'd like to check if an uploaded file is an...   \n",
       "1  <p>In my favorite editor (vim), I regularly us...   \n",
       "2  <p>I am import matlab file and construct a dat...   \n",
       "3  <p>This is probably very simple, but I simply ...   \n",
       "4  <pre><code>function modify(.......)\\n{\\n  $mco...   \n",
       "\n",
       "                                                Tags  \n",
       "0  php image-processing file-upload upload mime-t...  \n",
       "1                                            firefox  \n",
       "2                          r matlab machine-learning  \n",
       "3                                    c# url encoding  \n",
       "4                          php api file-get-contents  "
      ]
     },
     "execution_count": 9,
     "metadata": {},
     "output_type": "execute_result"
    }
   ],
   "source": [
    "train.head()"
   ]
  },
  {
   "cell_type": "code",
   "execution_count": 10,
   "metadata": {},
   "outputs": [
    {
     "data": {
      "text/plain": [
       "(49411, 4)"
      ]
     },
     "execution_count": 10,
     "metadata": {},
     "output_type": "execute_result"
    }
   ],
   "source": [
    "train.shape"
   ]
  },
  {
   "cell_type": "code",
   "execution_count": 11,
   "metadata": {},
   "outputs": [],
   "source": [
    "df=train.drop_duplicates()"
   ]
  },
  {
   "cell_type": "code",
   "execution_count": 12,
   "metadata": {},
   "outputs": [
    {
     "data": {
      "text/plain": [
       "(49411, 4)"
      ]
     },
     "execution_count": 12,
     "metadata": {},
     "output_type": "execute_result"
    }
   ],
   "source": [
    "df.shape"
   ]
  },
  {
   "cell_type": "code",
   "execution_count": 13,
   "metadata": {},
   "outputs": [],
   "source": [
    "df['Tags'].dropna(inplace = True)"
   ]
  },
  {
   "cell_type": "code",
   "execution_count": 14,
   "metadata": {},
   "outputs": [],
   "source": [
    "x = df['Title'].values\n",
    "y = df['Tags'].values"
   ]
  },
  {
   "cell_type": "code",
   "execution_count": 15,
   "metadata": {},
   "outputs": [],
   "source": [
    "from sklearn.feature_extraction.text import CountVectorizer\n",
    "#by default 'split()' will tdokenize each tag using space.\n",
    "vectorizer = CountVectorizer(tokenizer = lambda x: str(x).split())\n",
    "# fit_transform() does two functions: First, it fits the model\n",
    "# and learns the vocabulary; second, it transforms our training data\n",
    "# into feature vectors. The input to fit_transform should be a list of strings.\n",
    "tag_dtm = vectorizer.fit_transform(y)"
   ]
  },
  {
   "cell_type": "code",
   "execution_count": 16,
   "metadata": {},
   "outputs": [],
   "source": [
    "vect_x = vectorizer.fit_transform(x)"
   ]
  },
  {
   "cell_type": "code",
   "execution_count": 18,
   "metadata": {},
   "outputs": [],
   "source": [
    "import re\n",
    "from nltk.corpus import stopwords"
   ]
  },
  {
   "cell_type": "code",
   "execution_count": 17,
   "metadata": {},
   "outputs": [
    {
     "data": {
      "text/plain": [
       "(49411, 41358)"
      ]
     },
     "execution_count": 17,
     "metadata": {},
     "output_type": "execute_result"
    }
   ],
   "source": [
    "vect_x.shape"
   ]
  },
  {
   "cell_type": "code",
   "execution_count": 19,
   "metadata": {},
   "outputs": [],
   "source": [
    "spaces = re.compile('[/(){}\\[\\]\\|@,;]')\n",
    "symbols = re.compile('[^0-9a-z #+_]')\n",
    "stop = set(stopwords.words('english'))"
   ]
  },
  {
   "cell_type": "code",
   "execution_count": 20,
   "metadata": {},
   "outputs": [],
   "source": [
    "def textprep(text):\n",
    "    text=text.lower()\n",
    "    text = re.sub(spaces,\" \",text)\n",
    "    text = re.sub(symbols,\"\",text)\n",
    "    text = text.split();\n",
    "    return ' '.join([i for i in text if i not in stop])"
   ]
  },
  {
   "cell_type": "code",
   "execution_count": 21,
   "metadata": {},
   "outputs": [],
   "source": [
    "x = [textprep(i) for i in x]"
   ]
  },
  {
   "cell_type": "code",
   "execution_count": 22,
   "metadata": {},
   "outputs": [
    {
     "data": {
      "text/plain": [
       "'check uploaded file image without mime type'"
      ]
     },
     "execution_count": 22,
     "metadata": {},
     "output_type": "execute_result"
    }
   ],
   "source": [
    "x[0]"
   ]
  },
  {
   "cell_type": "code",
   "execution_count": 23,
   "metadata": {},
   "outputs": [],
   "source": [
    "from collections import defaultdict\n",
    "tags_counts =  defaultdict(int)\n",
    "words_counts =  defaultdict(int)"
   ]
  },
  {
   "cell_type": "code",
   "execution_count": 24,
   "metadata": {},
   "outputs": [],
   "source": [
    "y=y.reshape(-1,1)"
   ]
  },
  {
   "cell_type": "code",
   "execution_count": 25,
   "metadata": {},
   "outputs": [],
   "source": [
    "for text in x:\n",
    "    for word in text.split():\n",
    "        words_counts[word] += 1\n",
    "\n",
    "\n",
    "for tags in y:\n",
    "    for tag in tags:\n",
    "        tags_counts[tag] += 1"
   ]
  },
  {
   "cell_type": "code",
   "execution_count": 26,
   "metadata": {},
   "outputs": [
    {
     "data": {
      "text/plain": [
       "(49411, 1)"
      ]
     },
     "execution_count": 26,
     "metadata": {},
     "output_type": "execute_result"
    }
   ],
   "source": [
    "y.shape"
   ]
  },
  {
   "cell_type": "code",
   "execution_count": 27,
   "metadata": {},
   "outputs": [
    {
     "data": {
      "text/plain": [
       "array([['php image-processing file-upload upload mime-types'],\n",
       "       ['firefox'],\n",
       "       ['r matlab machine-learning'],\n",
       "       ...,\n",
       "       ['logging google google-analytics traffic adwords'],\n",
       "       ['microsoft-excel-2010'],\n",
       "       ['sql-server-2005 tsql pivot']], dtype=object)"
      ]
     },
     "execution_count": 27,
     "metadata": {},
     "output_type": "execute_result"
    }
   ],
   "source": [
    "y"
   ]
  },
  {
   "cell_type": "code",
   "execution_count": 28,
   "metadata": {},
   "outputs": [],
   "source": [
    "z = df['Body'].values"
   ]
  },
  {
   "cell_type": "code",
   "execution_count": 29,
   "metadata": {},
   "outputs": [
    {
     "data": {
      "text/plain": [
       "\"<p>I'd like to check if an uploaded file is an image file (e.g png, jpg, jpeg, gif, bmp) or another file. The problem is that I'm using Uploadify to upload the files, which changes the mime type and gives a 'text/octal' or something as the mime type, no matter which file type you upload.</p>\\n\\n<p>Is there a way to check if the uploaded file is an image apart from checking the file extension using PHP?</p>\\n\""
      ]
     },
     "execution_count": 29,
     "metadata": {},
     "output_type": "execute_result"
    }
   ],
   "source": [
    "z[0]"
   ]
  },
  {
   "cell_type": "code",
   "execution_count": 30,
   "metadata": {},
   "outputs": [],
   "source": [
    "def removehtml(text):\n",
    "    clean = re.compile('<.*?>')\n",
    "    return re.sub(clean,'',text)"
   ]
  },
  {
   "cell_type": "code",
   "execution_count": 31,
   "metadata": {},
   "outputs": [],
   "source": [
    "for c in range(0,len(z)):\n",
    "    z[c]=removehtml(z[c])"
   ]
  },
  {
   "cell_type": "code",
   "execution_count": 32,
   "metadata": {},
   "outputs": [],
   "source": [
    "z = [textprep(i) for i in z]"
   ]
  },
  {
   "cell_type": "code",
   "execution_count": 33,
   "metadata": {},
   "outputs": [
    {
     "data": {
      "text/plain": [
       "'id like check uploaded file image file eg png jpg jpeg gif bmp another file problem im using uploadify upload files changes mime type gives text octal something mime type matter file type uploadis way check uploaded file image apart checking file extension using php'"
      ]
     },
     "execution_count": 33,
     "metadata": {},
     "output_type": "execute_result"
    }
   ],
   "source": [
    "z[0]"
   ]
  },
  {
   "cell_type": "code",
   "execution_count": 34,
   "metadata": {},
   "outputs": [],
   "source": [
    "from nltk.corpus import stopwords\n",
    "from nltk.tokenize import word_tokenize"
   ]
  },
  {
   "cell_type": "code",
   "execution_count": 35,
   "metadata": {},
   "outputs": [],
   "source": [
    "stop_words=set(stopwords.words('english'))"
   ]
  },
  {
   "cell_type": "code",
   "execution_count": 36,
   "metadata": {},
   "outputs": [],
   "source": [
    "def removestop(text):\n",
    "    word_tokens = word_tokenize(text)\n",
    "    filtered = [w for w in word_tokens if not w in stop_words]\n",
    "    filtered_sentence = []\n",
    "    for w in word_tokens:\n",
    "        if w not in stop_words:\n",
    "            filtered_sentence.append(w)\n",
    "    return filtered_sentence"
   ]
  },
  {
   "cell_type": "code",
   "execution_count": 37,
   "metadata": {},
   "outputs": [],
   "source": [
    "z = [removestop(i) for i in z]"
   ]
  },
  {
   "cell_type": "code",
   "execution_count": 38,
   "metadata": {},
   "outputs": [
    {
     "name": "stdout",
     "output_type": "stream",
     "text": [
      "['favorite', 'editor', 'vim', 'regularly', 'use', 'ctrlw', 'execute', 'certain', 'action', 'quite', 'often', 'happens', 'firefox', 'active', 'window', 'windows', 'still', 'look', 'vim', 'thinking', 'vim', 'active', 'window', 'press', 'ctrlw', 'closes', 'firefox', 'want', 'way', 'stop', 'ctrlw', 'closing', 'firefoxrene']\n"
     ]
    }
   ],
   "source": [
    "print(z[1])"
   ]
  },
  {
   "cell_type": "code",
   "execution_count": 39,
   "metadata": {},
   "outputs": [],
   "source": [
    "x = [removestop(i) for i in x]"
   ]
  },
  {
   "cell_type": "code",
   "execution_count": 40,
   "metadata": {},
   "outputs": [
    {
     "data": {
      "text/plain": [
       "['check', 'uploaded', 'file', 'image', 'without', 'mime', 'type']"
      ]
     },
     "execution_count": 40,
     "metadata": {},
     "output_type": "execute_result"
    }
   ],
   "source": [
    "x[0]"
   ]
  },
  {
   "cell_type": "code",
   "execution_count": 41,
   "metadata": {},
   "outputs": [],
   "source": [
    "from nltk.stem import SnowballStemmer"
   ]
  },
  {
   "cell_type": "code",
   "execution_count": 42,
   "metadata": {},
   "outputs": [],
   "source": [
    "def snow(text):\n",
    "    stemmer = SnowballStemmer('english')\n",
    "    stemmed = [stemmer.stem(str(c)) for c in text]\n",
    "    return stemmed"
   ]
  },
  {
   "cell_type": "code",
   "execution_count": 43,
   "metadata": {},
   "outputs": [],
   "source": [
    "x = [snow(i) for i in x]"
   ]
  },
  {
   "cell_type": "code",
   "execution_count": 44,
   "metadata": {},
   "outputs": [
    {
     "data": {
      "text/plain": [
       "['check', 'upload', 'file', 'imag', 'without', 'mime', 'type']"
      ]
     },
     "execution_count": 44,
     "metadata": {},
     "output_type": "execute_result"
    }
   ],
   "source": [
    "x[0]"
   ]
  },
  {
   "cell_type": "code",
   "execution_count": 45,
   "metadata": {},
   "outputs": [],
   "source": [
    "z = [snow(i) for i in z]"
   ]
  },
  {
   "cell_type": "code",
   "execution_count": 46,
   "metadata": {},
   "outputs": [
    {
     "data": {
      "text/plain": [
       "['id',\n",
       " 'like',\n",
       " 'check',\n",
       " 'upload',\n",
       " 'file',\n",
       " 'imag',\n",
       " 'file',\n",
       " 'eg',\n",
       " 'png',\n",
       " 'jpg',\n",
       " 'jpeg',\n",
       " 'gif',\n",
       " 'bmp',\n",
       " 'anoth',\n",
       " 'file',\n",
       " 'problem',\n",
       " 'im',\n",
       " 'use',\n",
       " 'uploadifi',\n",
       " 'upload',\n",
       " 'file',\n",
       " 'chang',\n",
       " 'mime',\n",
       " 'type',\n",
       " 'give',\n",
       " 'text',\n",
       " 'octal',\n",
       " 'someth',\n",
       " 'mime',\n",
       " 'type',\n",
       " 'matter',\n",
       " 'file',\n",
       " 'type',\n",
       " 'uploadi',\n",
       " 'way',\n",
       " 'check',\n",
       " 'upload',\n",
       " 'file',\n",
       " 'imag',\n",
       " 'apart',\n",
       " 'check',\n",
       " 'file',\n",
       " 'extens',\n",
       " 'use',\n",
       " 'php']"
      ]
     },
     "execution_count": 46,
     "metadata": {},
     "output_type": "execute_result"
    }
   ],
   "source": [
    "z[0]"
   ]
  },
  {
   "cell_type": "code",
   "execution_count": 47,
   "metadata": {},
   "outputs": [],
   "source": [
    "def uniquedef(text):\n",
    "    for i in text:\n",
    "        if i not in unique:\n",
    "            unique.append(i)\n",
    "    return unique"
   ]
  },
  {
   "cell_type": "code",
   "execution_count": 48,
   "metadata": {},
   "outputs": [],
   "source": [
    "unique = []"
   ]
  },
  {
   "cell_type": "code",
   "execution_count": 49,
   "metadata": {},
   "outputs": [],
   "source": [
    "#unique = [uniquedef(i) for i in y]"
   ]
  },
  {
   "cell_type": "code",
   "execution_count": 50,
   "metadata": {},
   "outputs": [],
   "source": [
    "#unique[0]"
   ]
  },
  {
   "cell_type": "code",
   "execution_count": 51,
   "metadata": {},
   "outputs": [],
   "source": [
    "v = [removestop(str(i[0])) for i in y]"
   ]
  },
  {
   "cell_type": "code",
   "execution_count": 52,
   "metadata": {},
   "outputs": [],
   "source": [
    "y=v"
   ]
  },
  {
   "cell_type": "code",
   "execution_count": 53,
   "metadata": {},
   "outputs": [],
   "source": [
    "uniquetags=[uniquedef(i) for i in y]"
   ]
  },
  {
   "cell_type": "code",
   "execution_count": 54,
   "metadata": {},
   "outputs": [
    {
     "data": {
      "text/plain": [
       "['php',\n",
       " 'image-processing',\n",
       " 'file-upload',\n",
       " 'upload',\n",
       " 'mime-types',\n",
       " 'firefox',\n",
       " 'r',\n",
       " 'matlab',\n",
       " 'machine-learning',\n",
       " 'c',\n",
       " '#',\n",
       " 'url',\n",
       " 'encoding',\n",
       " 'api',\n",
       " 'file-get-contents',\n",
       " 'proxy',\n",
       " 'active-directory',\n",
       " 'jmeter',\n",
       " 'core-plot',\n",
       " 'asp.net',\n",
       " 'windows-phone-7',\n",
       " '.net',\n",
       " 'javascript',\n",
       " 'code-generation',\n",
       " 'sql',\n",
       " 'variables',\n",
       " 'parameters',\n",
       " 'procedure',\n",
       " 'calls',\n",
       " 'obfuscation',\n",
       " 'reflector',\n",
       " 'algorithm',\n",
       " 'language-agnostic',\n",
       " 'random',\n",
       " 'postfix',\n",
       " 'migration',\n",
       " 'mdaemon',\n",
       " 'documentation',\n",
       " 'latex3',\n",
       " 'expl3',\n",
       " 'windows-7',\n",
       " 'url-routing',\n",
       " 'conventions',\n",
       " 'temporary-files',\n",
       " 'wpf',\n",
       " 'binding',\n",
       " 'playframework',\n",
       " 'minify',\n",
       " 'xml',\n",
       " 'hash',\n",
       " 'multidimensional-array',\n",
       " 'simplexml-load-string',\n",
       " 'medical-science',\n",
       " 'cancer',\n",
       " 'healthcare',\n",
       " 'linq',\n",
       " 'actionscript-3',\n",
       " 'flex',\n",
       " 'flex3',\n",
       " 'iis',\n",
       " 'string',\n",
       " 'enumeration',\n",
       " 'haskell',\n",
       " 'visual-studio',\n",
       " 'makefile',\n",
       " 'gnu',\n",
       " 'html',\n",
       " 'semantic',\n",
       " 'line-breaks',\n",
       " 'c++',\n",
       " 'gcc',\n",
       " 'stl',\n",
       " 'bounds-checker',\n",
       " 'sharepoint',\n",
       " 'caml',\n",
       " 'custom-fields',\n",
       " 'css',\n",
       " 'jquery-ui',\n",
       " 'asp.net-mvc-4',\n",
       " 'bundle',\n",
       " 'asp.net-optimization',\n",
       " 'entity-framework-4',\n",
       " 'visual-studio-2008',\n",
       " '.net-2.0',\n",
       " 'monodroid',\n",
       " 'apk',\n",
       " 'mvvm',\n",
       " 'homework',\n",
       " 'calculus',\n",
       " 'polar-coordinates',\n",
       " 'netcat',\n",
       " 'maintenance',\n",
       " 'java',\n",
       " 'path',\n",
       " 'system',\n",
       " 'python',\n",
       " 'strong-typing',\n",
       " 'iphone',\n",
       " 'xcode',\n",
       " 'safari',\n",
       " 'linux',\n",
       " 'apache2',\n",
       " 'joomla',\n",
       " 'jquery',\n",
       " 'json',\n",
       " 'attributes',\n",
       " 'mfc',\n",
       " 'midi',\n",
       " 'comm',\n",
       " 'data-uri',\n",
       " 'ssl',\n",
       " 'https',\n",
       " 'android',\n",
       " 'android-ndk',\n",
       " 'android-source',\n",
       " 'ios',\n",
       " 'upgrade',\n",
       " 'ios4.3',\n",
       " 'iphone-3gs',\n",
       " 'asp.net-mvc',\n",
       " 'design',\n",
       " 'modelstate',\n",
       " 'service-layer',\n",
       " 'page-breaking',\n",
       " 'theorems',\n",
       " 'unit-testing',\n",
       " 'testing',\n",
       " 'theory',\n",
       " 'real-analysis',\n",
       " 'analysis',\n",
       " 'measure-theory',\n",
       " 'emacs',\n",
       " 'mac',\n",
       " 'keyboard-shortcuts',\n",
       " 'customization',\n",
       " 'ntfs',\n",
       " 'filenames',\n",
       " 'oracle',\n",
       " 'reporting-services',\n",
       " 'plsql',\n",
       " 'visual-studio-2010',\n",
       " 'plugins',\n",
       " 'rtsp',\n",
       " 'vlc',\n",
       " 'powershell',\n",
       " 'tfs',\n",
       " 'annotations',\n",
       " 'exception-handling',\n",
       " 'winforms',\n",
       " 'twitter',\n",
       " 'twitter-api',\n",
       " 'centos',\n",
       " 'backup',\n",
       " 'shell',\n",
       " 'cron',\n",
       " 'asp.net-profiles',\n",
       " 'listbox',\n",
       " 'entity-framework',\n",
       " 'eclipse',\n",
       " 'run',\n",
       " 'asp.net-mvc-3',\n",
       " 'security',\n",
       " 'mvc',\n",
       " 'silverlight',\n",
       " 'session',\n",
       " 'isolatedstorage',\n",
       " 'jquery-mobile',\n",
       " 'event-handling',\n",
       " 'click',\n",
       " 'anchor',\n",
       " 'temporal-database',\n",
       " 'temporal',\n",
       " 'temporal-difference',\n",
       " 'jsp',\n",
       " 'session-state',\n",
       " 'facebook',\n",
       " 'wordpress',\n",
       " 'javascript-events',\n",
       " 'prototypejs',\n",
       " 'counters',\n",
       " 'loops',\n",
       " 'version-control',\n",
       " 'mercurial',\n",
       " 'encryption',\n",
       " 'cmake',\n",
       " 'ubuntu',\n",
       " 'ubuntu-10.04',\n",
       " 'internet-security',\n",
       " 'servlets',\n",
       " 'tomcat7',\n",
       " 'ruby',\n",
       " 'wsdl',\n",
       " 'axis2',\n",
       " 'savon',\n",
       " 'bash',\n",
       " 'ftp',\n",
       " 'iptables',\n",
       " 'osx',\n",
       " 'application',\n",
       " 'osx-mountain-lion',\n",
       " 'launch-services',\n",
       " 'css3',\n",
       " 'webkit',\n",
       " 'scrollbar',\n",
       " 'pseudo-class',\n",
       " 'transition',\n",
       " 'effect',\n",
       " 'libssh',\n",
       " 'castle-windsor',\n",
       " 'f',\n",
       " 'boolean',\n",
       " 'warnings',\n",
       " 'pointers',\n",
       " 'xslt',\n",
       " 'thread-safety',\n",
       " 'mex',\n",
       " 'struts-1',\n",
       " 'inequality',\n",
       " 'limit',\n",
       " 'functional-equations',\n",
       " 'excel',\n",
       " 'table',\n",
       " 'disk',\n",
       " 'directory',\n",
       " 'io',\n",
       " 'java-ee',\n",
       " 'regex',\n",
       " 'sublimetext2',\n",
       " 'sublimetext',\n",
       " 'sublimetext3',\n",
       " 'multithreading',\n",
       " '-4.0',\n",
       " 'blockingcollection',\n",
       " 'raphael',\n",
       " 'graphiti',\n",
       " 'routing',\n",
       " 'openvpn',\n",
       " 'ospf',\n",
       " 'quagga',\n",
       " 'pdf',\n",
       " 'browser',\n",
       " 'types',\n",
       " 'file-download',\n",
       " 'permissions',\n",
       " 'sql-server-2008-r2',\n",
       " 'jaxb',\n",
       " 'cxf',\n",
       " 'mule',\n",
       " 'sql-server-ce',\n",
       " 'general-topology',\n",
       " 'jfreechart',\n",
       " 'search',\n",
       " 'binary-search',\n",
       " 'linear',\n",
       " 'drupal',\n",
       " 'e-commerce',\n",
       " 'ubercart',\n",
       " 'virtuemart',\n",
       " 'post',\n",
       " 'delete',\n",
       " 'hibernate',\n",
       " 'reflection',\n",
       " 'nosuchmethoderror',\n",
       " 'soundcard',\n",
       " 'xaudio2',\n",
       " 'postgresql',\n",
       " 'namespaces',\n",
       " 'memory-management',\n",
       " 'sdk',\n",
       " 'view',\n",
       " 'switch',\n",
       " 'ruby-on-rails',\n",
       " 'phonegap',\n",
       " 'tree',\n",
       " 'trie',\n",
       " 'descendant',\n",
       " 'command-line',\n",
       " 'performance',\n",
       " 'directx',\n",
       " 'shader',\n",
       " 'outlook',\n",
       " 'organization',\n",
       " 'http',\n",
       " 'web-applications',\n",
       " 'request',\n",
       " 'networking',\n",
       " 'beautifier',\n",
       " 'php-beautifier',\n",
       " 'mysql',\n",
       " 'authentication',\n",
       " 'process',\n",
       " 'operating-system',\n",
       " 'size',\n",
       " 'screen',\n",
       " 'nlog',\n",
       " 'logging',\n",
       " 'blackberry',\n",
       " 'projects-and-solutions',\n",
       " 'database',\n",
       " 'forms',\n",
       " 'integration',\n",
       " 'mechanize',\n",
       " 'microsoft',\n",
       " 'char',\n",
       " 'sql-server',\n",
       " 'linq-to-sql',\n",
       " 'math',\n",
       " 'signal-processing',\n",
       " 'frequency',\n",
       " 'fft',\n",
       " 'snow-leopard-server',\n",
       " 'azure-storage-tables',\n",
       " 'curl',\n",
       " 'basic-authentication',\n",
       " 'tikz-pgf',\n",
       " 'external-files',\n",
       " 'tikz-external',\n",
       " 'auto-pst-pdf',\n",
       " 'resize',\n",
       " 'bitmapdata',\n",
       " 'smooth',\n",
       " 'cropping',\n",
       " 'route',\n",
       " 'tightvnc',\n",
       " 'jquery-ajax',\n",
       " 'asp.net-ajax',\n",
       " 'web',\n",
       " 'windows-vista',\n",
       " 'recovery',\n",
       " 'repair',\n",
       " 'acl',\n",
       " 'image',\n",
       " 'rendering',\n",
       " 'gpu',\n",
       " 'layout',\n",
       " 'activity',\n",
       " 'ntlm',\n",
       " 'reverse-proxy',\n",
       " 'serialization',\n",
       " 'xmlserializer',\n",
       " 'zend-framework',\n",
       " 'phpunit',\n",
       " 'cobol',\n",
       " 'logical-operators',\n",
       " 'notation',\n",
       " 'asymptotics',\n",
       " 'windows',\n",
       " 'tsql',\n",
       " 'double',\n",
       " 'ajax',\n",
       " '-3.0',\n",
       " 'ironruby',\n",
       " 'evaluation',\n",
       " 'ef-code-first',\n",
       " 'seed',\n",
       " 'development',\n",
       " 'event-receivers',\n",
       " 'command',\n",
       " 'parsing',\n",
       " 'text',\n",
       " 'textview',\n",
       " 'books',\n",
       " 'dojo',\n",
       " 'grid',\n",
       " 'store',\n",
       " 'google-analytics',\n",
       " 'google-analytics-api',\n",
       " 'composer-php',\n",
       " 'packagist',\n",
       " 'query',\n",
       " 'optimization',\n",
       " 'objective-c',\n",
       " 'cocoa',\n",
       " 'core-data',\n",
       " 'infinite-loop',\n",
       " 'uml',\n",
       " 'class-design',\n",
       " 'reverse-engineering',\n",
       " 'sequence-diagram',\n",
       " 'ms-access',\n",
       " 'join',\n",
       " 'left-join',\n",
       " 'facebook-graph-api',\n",
       " 'sqlite',\n",
       " 'nesting',\n",
       " 'posts',\n",
       " 'links',\n",
       " 'geospatial',\n",
       " 'spatial',\n",
       " 'architecture',\n",
       " 'swig',\n",
       " 'empty-string',\n",
       " 'struts',\n",
       " 'webview',\n",
       " 'loaddata',\n",
       " 'tuning',\n",
       " 'pmd',\n",
       " 'freebsd',\n",
       " 'ports',\n",
       " 'menu',\n",
       " 'menuitem',\n",
       " 'gnuplot',\n",
       " 'ipad',\n",
       " 'datetime',\n",
       " 'compiler',\n",
       " 'installation',\n",
       " 'validation',\n",
       " 'tfs2010',\n",
       " 'diff',\n",
       " 'tfs2008',\n",
       " 'differences',\n",
       " 'html5',\n",
       " 'iphone-sdk-4.0',\n",
       " 'iadstsuserex',\n",
       " 'linqpad',\n",
       " 'xhtml',\n",
       " 'precision',\n",
       " 'gsl',\n",
       " 'floating-point-precision',\n",
       " 'css-float',\n",
       " 'absolute-positioning',\n",
       " 'hotmail',\n",
       " 'google',\n",
       " 'google-maps',\n",
       " 'android-emulator',\n",
       " 'python-ctypes',\n",
       " 'productivity',\n",
       " 'recommendations',\n",
       " 'calculation',\n",
       " 'equation',\n",
       " 'calculator',\n",
       " 'zepto',\n",
       " 'xaml',\n",
       " 'resources',\n",
       " 'styling',\n",
       " 'code-first',\n",
       " 'code-first-migrations',\n",
       " 'installing',\n",
       " 'date',\n",
       " 'uitableview',\n",
       " 'ios4',\n",
       " 'git',\n",
       " 'cygwin',\n",
       " 'git-tfs',\n",
       " 'vb.net',\n",
       " '.net-4.0',\n",
       " 'xsd',\n",
       " 'remote-access',\n",
       " 'sql-server-2008-express',\n",
       " 'connectivity',\n",
       " 'decompiling',\n",
       " 'ascii',\n",
       " 'word-processor',\n",
       " 'hardware',\n",
       " 'serial-port',\n",
       " 'grit',\n",
       " 'opengl-es',\n",
       " 'floating-point',\n",
       " 'texture',\n",
       " 'methods',\n",
       " 'static',\n",
       " 'module',\n",
       " 'include',\n",
       " 'flash',\n",
       " 'flex4.5',\n",
       " 'flexbuilder',\n",
       " 'live-wallpaper',\n",
       " 'matrix',\n",
       " 'numpy',\n",
       " 'jquery-plugins',\n",
       " 'android-custom-view',\n",
       " 'jasper-reports',\n",
       " 'ejb',\n",
       " 'exception',\n",
       " 'debugging',\n",
       " 'kernel',\n",
       " 'linux-device-driver',\n",
       " 'colors',\n",
       " 'mobile-safari',\n",
       " 'generics',\n",
       " 'formcollection',\n",
       " 'netbeans',\n",
       " 'testng',\n",
       " 'dataprovider',\n",
       " 'drivers',\n",
       " 'canvas',\n",
       " 'news-feed',\n",
       " 'ticker',\n",
       " 'facebook-timeline',\n",
       " 'open-graph-beta',\n",
       " 'wcf',\n",
       " 'wcf-binding',\n",
       " 'design-patterns',\n",
       " 'dependency-injection',\n",
       " 'nhibernate',\n",
       " 'samba',\n",
       " 'kerberos',\n",
       " 'file-server',\n",
       " 'share',\n",
       " 'core-animation',\n",
       " 'textbox',\n",
       " 'focus',\n",
       " 'html5-animation',\n",
       " 'jqtouch',\n",
       " 'oop',\n",
       " 'django',\n",
       " 'django-multilingual',\n",
       " 'vpn',\n",
       " 'connection',\n",
       " 'upnp',\n",
       " 'portforwarding',\n",
       " 'nat-traversal',\n",
       " 'touch',\n",
       " 'interface',\n",
       " 'generic-interface',\n",
       " 'algebra',\n",
       " 'virtualization',\n",
       " 'xen',\n",
       " 'asp.net-membership',\n",
       " 'membership-provider',\n",
       " 'sql-server-2008',\n",
       " 'daemon',\n",
       " 'clojure',\n",
       " 'internet',\n",
       " 'svn',\n",
       " 'tortoisesvn',\n",
       " 'selector',\n",
       " 'concurrency',\n",
       " 'osx-lion',\n",
       " 'time-machine',\n",
       " 'computer-science',\n",
       " 'video-lectures',\n",
       " 'localization',\n",
       " 'language',\n",
       " 'if-statement',\n",
       " 'nsbutton',\n",
       " 'rspec',\n",
       " 'controllers',\n",
       " 'data-binding',\n",
       " 'inkcanvas',\n",
       " 'sql-server-2005',\n",
       " 'windows-services',\n",
       " 'timer',\n",
       " 'try-catch-finally',\n",
       " 'junit',\n",
       " 'dbunit',\n",
       " 'notifications',\n",
       " 'plugin-development',\n",
       " 'headers',\n",
       " 'ios6',\n",
       " 'cocoa-touch',\n",
       " 'reloaddata',\n",
       " 'facebook-fql',\n",
       " 'friend',\n",
       " 'koala',\n",
       " 'user',\n",
       " 'sitecore',\n",
       " 'bsd',\n",
       " 'delegates',\n",
       " 'func',\n",
       " 'arrays',\n",
       " 'iteration',\n",
       " 'graphviz',\n",
       " 'dot',\n",
       " 'graph-layout',\n",
       " 'google-maps-api-3',\n",
       " 'maps',\n",
       " 'amazon-rds',\n",
       " 'bitmap',\n",
       " 'paint',\n",
       " 'channel',\n",
       " 'javadoc',\n",
       " 'ajaxcontroltoolkit',\n",
       " 'ado.net-entity-data-model',\n",
       " 'htmleditor',\n",
       " 'openmp',\n",
       " 'parallel-processing',\n",
       " 'ruby-on-rails-3',\n",
       " 'unobtrusive-javascript',\n",
       " 'development-environment',\n",
       " 'pages',\n",
       " 'wordpress.com',\n",
       " 'integral',\n",
       " 'robocopy',\n",
       " 'service',\n",
       " 'internet-explorer-7',\n",
       " 'relative-path',\n",
       " 'href',\n",
       " 'absolute-path',\n",
       " 'http-status-code-403',\n",
       " 'url-parameters',\n",
       " 'dvcs',\n",
       " 'uiwebview',\n",
       " 'document-library',\n",
       " 'collections',\n",
       " 'web-services',\n",
       " 'dll',\n",
       " 'scheduled-tasks',\n",
       " 'push-notification',\n",
       " 'scroll',\n",
       " 'properties',\n",
       " 'weblogic',\n",
       " 'classpath',\n",
       " 'network-protocols',\n",
       " 'networkstream',\n",
       " 'resizable',\n",
       " 'jquery-ui-resizable',\n",
       " 'windows-xp',\n",
       " 'windows-8',\n",
       " 'windows-8-upgrade',\n",
       " 'apache',\n",
       " 'buffer',\n",
       " 'csv',\n",
       " 'drupal-batch',\n",
       " 'ctypes',\n",
       " 'dllexport',\n",
       " 'probability',\n",
       " 'statistics',\n",
       " 'soap',\n",
       " 'boost',\n",
       " 'backslash',\n",
       " 'reference',\n",
       " 'mongodb',\n",
       " 'pymongo',\n",
       " 'dbref',\n",
       " 'animation',\n",
       " 'subclass',\n",
       " 'pdfview',\n",
       " 'rgb',\n",
       " 'patch',\n",
       " 'terminal',\n",
       " 'title',\n",
       " 'database-design',\n",
       " 'weighted',\n",
       " 'mfc-feature-pack',\n",
       " 'quicksand',\n",
       " 'guid',\n",
       " 'iqueryable',\n",
       " 'decimal',\n",
       " 'round',\n",
       " 'node.js',\n",
       " 'vsts2008',\n",
       " 'document-classes',\n",
       " 'documentclass-writing',\n",
       " 'spring',\n",
       " 'jpa',\n",
       " 'spring-data-jpa',\n",
       " 'video',\n",
       " 'flowplayer',\n",
       " 'file-io',\n",
       " 'inline-scripting',\n",
       " 'stored-procedures',\n",
       " 'update',\n",
       " 'datagridview',\n",
       " 'memory-allocation',\n",
       " 'linked-list',\n",
       " 'cisco-asa',\n",
       " 'login',\n",
       " 'accordion',\n",
       " 'horizontal',\n",
       " 'sencha-touch-2',\n",
       " 'sass',\n",
       " 'fontsize',\n",
       " 'origin',\n",
       " 'css-transforms',\n",
       " 'load',\n",
       " 'shared-objects',\n",
       " 'header',\n",
       " 'magento-1.5',\n",
       " 'magento',\n",
       " 'ssd',\n",
       " 'bios',\n",
       " 'uefi',\n",
       " 'extension-methods',\n",
       " 'ninject',\n",
       " 'configuration',\n",
       " 'archive',\n",
       " 'war',\n",
       " '3d',\n",
       " 'java-3d',\n",
       " 'deserialization',\n",
       " 'strongly-typed-dataset',\n",
       " 'history',\n",
       " 'islam',\n",
       " 'russia',\n",
       " 'tomcat',\n",
       " 'classloader',\n",
       " 'wss4j',\n",
       " 'angularjs',\n",
       " 'group-by',\n",
       " 'xpath',\n",
       " 'asp-classic',\n",
       " 'jsf',\n",
       " 'jsf-2',\n",
       " 'map',\n",
       " 'el',\n",
       " 'trigonometry',\n",
       " 'bezier-curve',\n",
       " 'mongodb-java',\n",
       " 'tcp',\n",
       " 'webserver',\n",
       " 'yii',\n",
       " 'audio',\n",
       " 'icefaces',\n",
       " 'icefaces-1.8',\n",
       " 'extern',\n",
       " 'computed-columns',\n",
       " 'amazon-ec2',\n",
       " 'performance-tuning',\n",
       " 'sectors',\n",
       " 'geometry',\n",
       " 'matplotlib',\n",
       " 'axes',\n",
       " 'subplot',\n",
       " 'models',\n",
       " 'solutions',\n",
       " 'interview',\n",
       " 'practice-problems',\n",
       " 'playframework-2.0',\n",
       " 'h2',\n",
       " 'file-system',\n",
       " 'gui',\n",
       " 'frameworks',\n",
       " 'uiview',\n",
       " 'uiviewcontroller',\n",
       " 'rotation',\n",
       " 'swing',\n",
       " 'listener',\n",
       " 'mobile',\n",
       " 'hp-pavilion',\n",
       " 'locking',\n",
       " 'gwt',\n",
       " 'gwt2',\n",
       " 'powerbuilder',\n",
       " 'rvalue',\n",
       " 'svg',\n",
       " 'scale',\n",
       " 'insert',\n",
       " 'microsoft-excel',\n",
       " 'vba',\n",
       " 'formula',\n",
       " 'ssh',\n",
       " 'filters',\n",
       " 'wp-mail',\n",
       " 'gmail',\n",
       " 'imap',\n",
       " 'backbone.js',\n",
       " 'coffeescript',\n",
       " 'jasmine',\n",
       " 'sprockets',\n",
       " 'sinon',\n",
       " 'multiple-inheritance',\n",
       " 'rss',\n",
       " 'elisp',\n",
       " 'dbus',\n",
       " 'differential-equations',\n",
       " 'bluetooth',\n",
       " 'parallelism',\n",
       " 'combinatorics',\n",
       " 'game-theory',\n",
       " 'dice',\n",
       " 'redirect',\n",
       " 'drupal-7',\n",
       " 'panel',\n",
       " 'settings',\n",
       " 'shortcut',\n",
       " 'sorting',\n",
       " 'b-tree',\n",
       " 'dbms',\n",
       " 'conference',\n",
       " 'macros',\n",
       " 'light',\n",
       " 'antivirus',\n",
       " 'malware',\n",
       " 'wireless-networking',\n",
       " 'wireless-access-point',\n",
       " 'hotspot',\n",
       " '64-bit',\n",
       " 'disk-utility',\n",
       " 'password',\n",
       " 'communication',\n",
       " 'windows-server-2003-r2',\n",
       " 'asynchronous',\n",
       " 'client-server',\n",
       " 'chat',\n",
       " 'orchardcms',\n",
       " 'file',\n",
       " 'content',\n",
       " 'memory',\n",
       " 'resource-monitor',\n",
       " 'datatables',\n",
       " 'graph',\n",
       " 'plot',\n",
       " 'spreadsheet',\n",
       " 'openoffice-calc',\n",
       " 'tags',\n",
       " 'echo',\n",
       " 'ghost',\n",
       " 'android-imageview',\n",
       " 'android-textview',\n",
       " 'android-gridview',\n",
       " 'google-chrome-extension',\n",
       " 'firefox-addon',\n",
       " 'activexobject',\n",
       " 'browser-extension',\n",
       " 'passwords',\n",
       " 'openurl',\n",
       " 'linq-to-entities',\n",
       " 'synchronization',\n",
       " 'sharepoint2010',\n",
       " 'ruby-on-rails-3.1',\n",
       " 'swizzling',\n",
       " 'grails',\n",
       " 'calendar',\n",
       " 'grails-validation',\n",
       " 'user-defined-functions',\n",
       " 'hive',\n",
       " 'error',\n",
       " 'internet-explorer',\n",
       " 'fedora',\n",
       " 'init-script',\n",
       " 'functions',\n",
       " 'comments',\n",
       " 'amazon-s3',\n",
       " 'ruby-on-rails-2',\n",
       " 'fopen',\n",
       " 'slideshow',\n",
       " 'cycle',\n",
       " 'canon',\n",
       " 'autofocus',\n",
       " 'streaming',\n",
       " 'sax',\n",
       " 'custom-controls',\n",
       " 'dtd',\n",
       " 'opengl',\n",
       " 'definite-integral',\n",
       " 'improper-integrals',\n",
       " 'actionlink',\n",
       " 'ds.algorithms',\n",
       " 'graph-theory',\n",
       " 'graph-algorithms',\n",
       " 'ds.data-structures',\n",
       " 'directed-acyclic-graph',\n",
       " 'threadpool',\n",
       " 'caching',\n",
       " 'twig',\n",
       " 'drag-and-drop',\n",
       " 'object-model',\n",
       " 'pasteboard',\n",
       " 'facebook-like',\n",
       " 'fonts',\n",
       " 'putty',\n",
       " 'variable-width',\n",
       " 'list',\n",
       " 'dictionary',\n",
       " 'tuples',\n",
       " 'work-environment',\n",
       " 'retina',\n",
       " 'pixelate',\n",
       " 'preg-match',\n",
       " 'exit',\n",
       " 'back-button',\n",
       " 'tdd',\n",
       " 'integration-testing',\n",
       " 'osgi',\n",
       " 'apache-poi',\n",
       " 'apache-karaf',\n",
       " 'osgi-bundle',\n",
       " 'upgrade-issue',\n",
       " 'windows-mobile',\n",
       " 'sspi',\n",
       " 'strip',\n",
       " 'graphics',\n",
       " 'cloud',\n",
       " 'desktop-application',\n",
       " 'benchmarking',\n",
       " 'ios5',\n",
       " 'vb.net-2010',\n",
       " 'categories',\n",
       " 'menus',\n",
       " 'thumbnails',\n",
       " 'algebra-precalculus',\n",
       " 'terminology',\n",
       " 'queue',\n",
       " 'msmq',\n",
       " 'vsts2010',\n",
       " 'like-operator',\n",
       " 'ini',\n",
       " 'keyeventargs',\n",
       " 'diagram',\n",
       " 'achartengine',\n",
       " 'drop-down-menu',\n",
       " 'requiredfieldvalidator',\n",
       " 'comparevalidator',\n",
       " 'events',\n",
       " 'div',\n",
       " 'clickable',\n",
       " 'propagation',\n",
       " 'spacing',\n",
       " 'subfloats',\n",
       " 'transparent',\n",
       " 'scala',\n",
       " 'eclipse-plugin',\n",
       " 'symbian',\n",
       " 's60',\n",
       " 'pys60',\n",
       " 'ovi',\n",
       " 'garbage-collection',\n",
       " 'functional-programming',\n",
       " 'cakephp',\n",
       " 'extract',\n",
       " 'internal',\n",
       " 'tables',\n",
       " 'org-mode',\n",
       " 'codeigniter',\n",
       " 'development-process',\n",
       " 'qa',\n",
       " 'quality',\n",
       " 'class',\n",
       " 'account',\n",
       " 'creation',\n",
       " 'comparison',\n",
       " 'sso',\n",
       " 'cc.complexity-theory',\n",
       " 'complexity-classes',\n",
       " 'vmware-esxi',\n",
       " 'microsoft-access',\n",
       " 'avaudioplayer',\n",
       " 'mixing',\n",
       " 'sockets',\n",
       " 'linux-kernel',\n",
       " 'netlink',\n",
       " 'typescript',\n",
       " 'grub2',\n",
       " 'db2',\n",
       " 'reindex',\n",
       " 'apple',\n",
       " 'ios-simulator',\n",
       " 'vbulletin',\n",
       " 'mysql-error-1054',\n",
       " 'capistrano',\n",
       " 'perl',\n",
       " 'extjs',\n",
       " 'newline',\n",
       " 'strpos',\n",
       " 'jobs',\n",
       " 'co-workers',\n",
       " 'log4net',\n",
       " 'shopify',\n",
       " 'carbon',\n",
       " 'mono',\n",
       " 'wireshark',\n",
       " 'rtt',\n",
       " 'hammer',\n",
       " 'django-templates',\n",
       " 'internet-explorer-6',\n",
       " 'ide',\n",
       " 'templates',\n",
       " 'connection-string',\n",
       " 'ora-12560',\n",
       " 'metadata',\n",
       " 'audio-streaming',\n",
       " 'refactoring',\n",
       " 'environment-variables',\n",
       " 'getjson',\n",
       " 'time-series',\n",
       " 'expression-blend',\n",
       " 'blend',\n",
       " 'android-layout',\n",
       " 'category-theory',\n",
       " 'examples-counterexamples',\n",
       " 'chmod',\n",
       " 'full-text-search',\n",
       " 'defragment',\n",
       " 'facebook-javascript-sdk',\n",
       " 'transformation',\n",
       " 'xml-namespaces',\n",
       " 'user-accounts',\n",
       " 'new-account',\n",
       " 'nsdate',\n",
       " 'in-app-purchase',\n",
       " 'amazon',\n",
       " 'rhino-mocks',\n",
       " 'inheritance',\n",
       " 'derived-class',\n",
       " 'base-class',\n",
       " 'activex',\n",
       " 'xcode4',\n",
       " 'unity3d',\n",
       " 'pdf-generation',\n",
       " 'memcached',\n",
       " 'membase',\n",
       " 'couchbase',\n",
       " 'glteximage2d',\n",
       " 'right-click',\n",
       " 'imageview',\n",
       " 'database-schema',\n",
       " 'formatting',\n",
       " 'schema',\n",
       " 'gis',\n",
       " ...]"
      ]
     },
     "execution_count": 54,
     "metadata": {},
     "output_type": "execute_result"
    }
   ],
   "source": [
    "uniquetags[0]"
   ]
  },
  {
   "cell_type": "code",
   "execution_count": 55,
   "metadata": {},
   "outputs": [
    {
     "data": {
      "text/plain": [
       "['check', 'upload', 'file', 'imag', 'without', 'mime', 'type']"
      ]
     },
     "execution_count": 55,
     "metadata": {},
     "output_type": "execute_result"
    }
   ],
   "source": [
    "x[0]"
   ]
  },
  {
   "cell_type": "code",
   "execution_count": 56,
   "metadata": {},
   "outputs": [
    {
     "data": {
      "text/plain": [
       "['php', 'image-processing', 'file-upload', 'upload', 'mime-types']"
      ]
     },
     "execution_count": 56,
     "metadata": {},
     "output_type": "execute_result"
    }
   ],
   "source": [
    "y[0]"
   ]
  },
  {
   "cell_type": "code",
   "execution_count": 57,
   "metadata": {},
   "outputs": [
    {
     "data": {
      "text/plain": [
       "['id',\n",
       " 'like',\n",
       " 'check',\n",
       " 'upload',\n",
       " 'file',\n",
       " 'imag',\n",
       " 'file',\n",
       " 'eg',\n",
       " 'png',\n",
       " 'jpg',\n",
       " 'jpeg',\n",
       " 'gif',\n",
       " 'bmp',\n",
       " 'anoth',\n",
       " 'file',\n",
       " 'problem',\n",
       " 'im',\n",
       " 'use',\n",
       " 'uploadifi',\n",
       " 'upload',\n",
       " 'file',\n",
       " 'chang',\n",
       " 'mime',\n",
       " 'type',\n",
       " 'give',\n",
       " 'text',\n",
       " 'octal',\n",
       " 'someth',\n",
       " 'mime',\n",
       " 'type',\n",
       " 'matter',\n",
       " 'file',\n",
       " 'type',\n",
       " 'uploadi',\n",
       " 'way',\n",
       " 'check',\n",
       " 'upload',\n",
       " 'file',\n",
       " 'imag',\n",
       " 'apart',\n",
       " 'check',\n",
       " 'file',\n",
       " 'extens',\n",
       " 'use',\n",
       " 'php']"
      ]
     },
     "execution_count": 57,
     "metadata": {},
     "output_type": "execute_result"
    }
   ],
   "source": [
    "z[0]"
   ]
  },
  {
   "cell_type": "code",
   "execution_count": 58,
   "metadata": {},
   "outputs": [],
   "source": [
    "from sklearn.model_selection import train_test_split"
   ]
  },
  {
   "cell_type": "code",
   "execution_count": 59,
   "metadata": {},
   "outputs": [],
   "source": [
    "x1_train, x1_test, y1_train, y1_test = train_test_split(x, y, test_size = 0.20, random_state = 0)"
   ]
  },
  {
   "cell_type": "code",
   "execution_count": 60,
   "metadata": {},
   "outputs": [],
   "source": [
    "from sklearn.ensemble import RandomForestClassifier\n",
    "fore = RandomForestClassifier()"
   ]
  },
  {
   "cell_type": "code",
   "execution_count": 62,
   "metadata": {},
   "outputs": [
    {
     "data": {
      "text/plain": [
       "[['php', 'form', 'header', 'redirect', 'work'],\n",
       " ['nsis', 'detect', 'silent', 'instal'],\n",
       " ['two', 'button', 'stretch', 'full', 'screen', 'android'],\n",
       " ['biblatexapa', 'sentenc', 'case', 'work'],\n",
       " ['qtextedit', 'detect', 'user', 'insert', 'cursor', 'text', 'area']]"
      ]
     },
     "execution_count": 62,
     "metadata": {},
     "output_type": "execute_result"
    }
   ],
   "source": [
    "x1_train[1:6]"
   ]
  },
  {
   "cell_type": "code",
   "execution_count": 63,
   "metadata": {},
   "outputs": [],
   "source": [
    "from sklearn.feature_extraction.text import CountVectorizer"
   ]
  },
  {
   "cell_type": "code",
   "execution_count": 64,
   "metadata": {},
   "outputs": [],
   "source": [
    "vectorizer=CountVectorizer(tokenizer = lambda c:c.split(), binary = 'true')"
   ]
  },
  {
   "cell_type": "code",
   "execution_count": 65,
   "metadata": {},
   "outputs": [],
   "source": [
    "for i in range(0,len(y)):\n",
    "    multi_y = vectorizer.fit_transform(y[i])"
   ]
  },
  {
   "cell_type": "code",
   "execution_count": 66,
   "metadata": {},
   "outputs": [],
   "source": [
    "for i in range(0,len(x)):\n",
    "    multi_x = vectorizer.fit_transform(x[i])"
   ]
  },
  {
   "cell_type": "markdown",
   "metadata": {},
   "source": [
    "fore.fit(multi_x,multi_y)"
   ]
  }
 ],
 "metadata": {
  "kernelspec": {
   "display_name": "Python 3",
   "language": "python",
   "name": "python3"
  },
  "language_info": {
   "codemirror_mode": {
    "name": "ipython",
    "version": 3
   },
   "file_extension": ".py",
   "mimetype": "text/x-python",
   "name": "python",
   "nbconvert_exporter": "python",
   "pygments_lexer": "ipython3",
   "version": "3.7.3"
  }
 },
 "nbformat": 4,
 "nbformat_minor": 2
}
